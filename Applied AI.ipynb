{
 "cells": [
  {
   "cell_type": "code",
   "execution_count": 9,
   "id": "eeeb919b",
   "metadata": {},
   "outputs": [],
   "source": [
    "from selenium import webdriver\n",
    "from selenium.webdriver.common.keys import Keys\n",
    "from selenium.webdriver.common.by import By\n",
    "import speech_recognition as sr\n",
    "import time\n",
    "import pyttsx3"
   ]
  },
  {
   "cell_type": "code",
   "execution_count": 17,
   "id": "6f2cf889",
   "metadata": {},
   "outputs": [],
   "source": [
    "driver = webdriver.Chrome()\n",
    "driver.maximize_window()"
   ]
  },
  {
   "cell_type": "code",
   "execution_count": 11,
   "id": "e7740864",
   "metadata": {},
   "outputs": [],
   "source": [
    "engine = pyttsx3.init()\n",
    "voices = engine.getProperty('voices')\n",
    "engine.setProperty('voice', voices[1].id)"
   ]
  },
  {
   "cell_type": "code",
   "execution_count": 12,
   "id": "f574146c",
   "metadata": {},
   "outputs": [],
   "source": [
    "recognizer = sr.Recognizer()\n",
    "microphone = sr.Microphone()"
   ]
  },
  {
   "cell_type": "code",
   "execution_count": 13,
   "id": "8d248326",
   "metadata": {},
   "outputs": [],
   "source": [
    "def speak(query):\n",
    "    engine.say(query)\n",
    "    engine.runAndWait()"
   ]
  },
  {
   "cell_type": "code",
   "execution_count": 14,
   "id": "8c766f69",
   "metadata": {},
   "outputs": [],
   "source": [
    "\n",
    "def recognize_speech():\n",
    "    with microphone as source:\n",
    "        audio = recognizer.listen(source, phrase_time_limit=5)\n",
    "    response = \"\"\n",
    "    speak(\"Identifying speech..\")\n",
    "    try:\n",
    "        response = recognizer.recognize_google(audio)\n",
    "    except:\n",
    "        response = \"\"\n",
    "    return response"
   ]
  },
  {
   "cell_type": "code",
   "execution_count": 18,
   "id": "fb353f78",
   "metadata": {},
   "outputs": [
    {
     "name": "stdout",
     "output_type": "stream",
     "text": [
      "open linkedin\n",
      "exit exit\n"
     ]
    }
   ],
   "source": [
    "time.sleep(3)\n",
    "speak(\"Hello master! I am now online..\")\n",
    "while True:\n",
    "    speak(\"How can I help you?\")\n",
    "    voice = recognize_speech().lower()\n",
    "    print(voice)\n",
    "    if 'open google' in voice:\n",
    "        speak('Opening google..')\n",
    "        driver.execute_script(\"window.open('');\")\n",
    "        window_list = driver.window_handles\n",
    "        driver.switch_to.window(window_list[-1])\n",
    "        driver.get('https://google.com')\n",
    "    elif 'search google' in voice:\n",
    "        while True:\n",
    "            speak('What would you like to search?')\n",
    "            query = recognize_speech()\n",
    "            if query != \"\":\n",
    "                break\n",
    "        element = driver.find_element(By.NAME, 'q')\n",
    "        element.clear()\n",
    "        element.send_keys(query)\n",
    "        element.send_keys(Keys.RETURN)\n",
    "    elif 'open youtube' in voice:\n",
    "        speak('Opening youtube..')\n",
    "        driver.execute_script(\"window.open('');\")\n",
    "        window_list = driver.window_handles\n",
    "        driver.switch_to.window(window_list[-1])\n",
    "        driver.get('https://youtube.com')\n",
    "    elif 'search youtube' in voice:\n",
    "        while True:\n",
    "            speak('What would you like to search on YouTube?')\n",
    "            query = recognize_speech()\n",
    "            if query != \"\":\n",
    "                break\n",
    "        element = driver.find_element(By.NAME, 'search_query')\n",
    "        element.clear()\n",
    "        element.send_keys(query)\n",
    "        element.send_keys(Keys.RETURN)\n",
    "    elif 'open linkedin' in voice:\n",
    "        speak('Opening Linkedin..')\n",
    "        driver.execute_script(\"window.open('');\")\n",
    "        window_list = driver.window_handles\n",
    "        driver.switch_to.window(window_list[-1])\n",
    "        driver.get('https://www.linkedin.com/')\n",
    "    elif 'switch tab' in voice:\n",
    "        num_tabs = len(driver.window_handles)\n",
    "        cur_tab = 0\n",
    "        for i in range(num_tabs):\n",
    "            if driver.window_handles[i] == driver.current_window_handle:\n",
    "                if i != num_tabs - 1:\n",
    "                    cur_tab = i + 1\n",
    "                    break\n",
    "        driver.switch_to.window(driver.window_handles[cur_tab])\n",
    "    elif 'close tab' in voice:\n",
    "        speak('Closing Tab..')\n",
    "        driver.close()\n",
    "    elif 'go back' in voice:\n",
    "        driver.back()\n",
    "    elif 'go forward' in voice:\n",
    "        driver.forward()\n",
    "    elif 'exit' in voice:\n",
    "        speak('Goodbye Master!')\n",
    "        driver.quit()\n",
    "        break\n",
    "    else:\n",
    "        speak('Not a valid command. Please try again.')\n",
    "    time.sleep(2)"
   ]
  },
  {
   "cell_type": "code",
   "execution_count": null,
   "id": "d24c3561",
   "metadata": {},
   "outputs": [],
   "source": []
  }
 ],
 "metadata": {
  "kernelspec": {
   "display_name": "Python 3 (ipykernel)",
   "language": "python",
   "name": "python3"
  },
  "language_info": {
   "codemirror_mode": {
    "name": "ipython",
    "version": 3
   },
   "file_extension": ".py",
   "mimetype": "text/x-python",
   "name": "python",
   "nbconvert_exporter": "python",
   "pygments_lexer": "ipython3",
   "version": "3.9.13"
  }
 },
 "nbformat": 4,
 "nbformat_minor": 5
}
